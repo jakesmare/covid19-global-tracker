{
 "cells": [
  {
   "cell_type": "code",
   "execution_count": null,
   "id": "5ce4e121-17ef-4f32-b8a9-391d873aab0d",
   "metadata": {},
   "outputs": [],
   "source": [
    "covid19_tracker.ipynb"
   ]
  }
 ],
 "metadata": {
  "kernelspec": {
   "display_name": "Python 3 (ipykernel)",
   "language": "python",
   "name": "python3"
  },
  "language_info": {
   "codemirror_mode": {
    "name": "ipython",
    "version": 3
   },
   "file_extension": ".py",
   "mimetype": "text/x-python",
   "name": "python",
   "nbconvert_exporter": "python",
   "pygments_lexer": "ipython3",
   "version": "3.13.7"
  }
 },
 "nbformat": 4,
 "nbformat_minor": 5
}
